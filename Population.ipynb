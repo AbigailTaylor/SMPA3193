{
 "cells": [
  {
   "cell_type": "code",
   "execution_count": 3,
   "metadata": {
    "collapsed": false,
    "deletable": true,
    "editable": true
   },
   "outputs": [
    {
     "name": "stdout",
     "output_type": "stream",
     "text": [
      "| column        | data_type |\n",
      "| ------------- | --------- |\n",
      "| county        | Text      |\n",
      "| state         | Text      |\n",
      "| estimate_2010 | Number    |\n",
      "| estimate_2011 | Number    |\n",
      "| estimate_2012 | Number    |\n",
      "| estimate_2013 | Number    |\n",
      "| estimate_2014 | Number    |\n",
      "| estimate_2015 | Number    |\n",
      "\n"
     ]
    },
    {
     "name": "stderr",
     "output_type": "stream",
     "text": [
      "/System/Library/Frameworks/Python.framework/Versions/2.7/lib/python2.7/json/encoder.py:207: DeprecationWarning: Interpreting naive datetime as local 2017-03-02 20:18:11.726821. Please add timezone info to timestamps.\n"
     ]
    }
   ],
   "source": [
    "import agate\n",
    "counties = agate.Table.from_csv(\"county_population.csv\")\n",
    "print counties"
   ]
  },
  {
   "cell_type": "code",
   "execution_count": 6,
   "metadata": {
    "collapsed": false
   },
   "outputs": [
    {
     "name": "stderr",
     "output_type": "stream",
     "text": [
      "/System/Library/Frameworks/Python.framework/Versions/2.7/lib/python2.7/json/encoder.py:207: DeprecationWarning: Interpreting naive datetime as local 2017-03-02 20:21:48.563792. Please add timezone info to timestamps.\n"
     ]
    }
   ],
   "source": [
    "popchange1016 = counties.compute([\n",
    "    ('change', agate.PercentChange('estimate_2010', 'estimate_2015'))\n",
    "])"
   ]
  },
  {
   "cell_type": "code",
   "execution_count": 8,
   "metadata": {
    "collapsed": false
   },
   "outputs": [
    {
     "name": "stdout",
     "output_type": "stream",
     "text": [
      "1.256860592755214050493962678\n"
     ]
    },
    {
     "name": "stderr",
     "output_type": "stream",
     "text": [
      "/System/Library/Frameworks/Python.framework/Versions/2.7/lib/python2.7/json/encoder.py:207: DeprecationWarning: Interpreting naive datetime as local 2017-03-02 20:22:59.629389. Please add timezone info to timestamps.\n"
     ]
    }
   ],
   "source": [
    "print popchange1016[0]['change']"
   ]
  },
  {
   "cell_type": "code",
   "execution_count": 10,
   "metadata": {
    "collapsed": false
   },
   "outputs": [
    {
     "name": "stderr",
     "output_type": "stream",
     "text": [
      "/System/Library/Frameworks/Python.framework/Versions/2.7/lib/python2.7/json/encoder.py:207: DeprecationWarning: Interpreting naive datetime as local 2017-03-02 20:23:38.828368. Please add timezone info to timestamps.\n"
     ]
    }
   ],
   "source": [
    "from decimal import Decimal\n",
    "def round_change(row):\n",
    "    return row['change'].quantize(Decimal('0.1'))\n",
    "rounded_change = popchange1016.compute([\n",
    "    ('change_rounded', agate.Formula(agate.Number(), round_change))\n",
    "])"
   ]
  },
  {
   "cell_type": "code",
   "execution_count": 12,
   "metadata": {
    "collapsed": false
   },
   "outputs": [
    {
     "name": "stdout",
     "output_type": "stream",
     "text": [
      "1.3\n"
     ]
    },
    {
     "name": "stderr",
     "output_type": "stream",
     "text": [
      "/System/Library/Frameworks/Python.framework/Versions/2.7/lib/python2.7/json/encoder.py:207: DeprecationWarning: Interpreting naive datetime as local 2017-03-02 20:23:59.992471. Please add timezone info to timestamps.\n"
     ]
    }
   ],
   "source": [
    "print rounded_change[0]['change_rounded']"
   ]
  },
  {
   "cell_type": "code",
   "execution_count": 14,
   "metadata": {
    "collapsed": false
   },
   "outputs": [
    {
     "name": "stdout",
     "output_type": "stream",
     "text": [
      "| county              | state          | change_rounded |\n",
      "| ------------------- | -------------- | -------------- |\n",
      "| McKenzie County     | North Dakota   |          100.4 |\n",
      "| Williams County     | North Dakota   |           56.3 |\n",
      "| Loving County       | Texas          |           34.9 |\n",
      "| Mountrail County    | North Dakota   |           33.8 |\n",
      "| Stark County        | North Dakota   |           32.0 |\n",
      "| Dunn County         | North Dakota   |           31.2 |\n",
      "| Sumter County       | Florida        |           26.1 |\n",
      "| Wasatch County      | Utah           |           23.4 |\n",
      "| St. Bernard Parish  | Louisiana      |           23.4 |\n",
      "| Hays County         | Texas          |           23.0 |\n",
      "| Richland County     | Montana        |           22.7 |\n",
      "| Andrews County      | Texas          |           22.0 |\n",
      "| Billings County     | North Dakota   |           21.4 |\n",
      "| Fort Bend County    | Texas          |           21.3 |\n",
      "| Long County         | Georgia        |           20.7 |\n",
      "| Forsyth County      | Georgia        |           20.2 |\n",
      "| Dallas County       | Iowa           |           20.1 |\n",
      "| Osceola County      | Florida        |           20.1 |\n",
      "| Kendall County      | Texas          |           20.0 |\n",
      "| Williamson County   | Texas          |           19.2 |\n",
      "| Loudoun County      | Virginia       |           19.0 |\n",
      "| Sterling County     | Texas          |           18.8 |\n",
      "| St. Johns County    | Florida        |           18.5 |\n",
      "| Comal County        | Texas          |           18.1 |\n",
      "| Divide County       | North Dakota   |           17.9 |\n",
      "| Burke County        | North Dakota   |           17.8 |\n",
      "| Midland County      | Texas          |           17.6 |\n",
      "| Martin County       | Texas          |           17.1 |\n",
      "| Denton County       | Texas          |           17.0 |\n",
      "| Montgomery County   | Texas          |           17.0 |\n",
      "| Lincoln County      | South Dakota   |           17.0 |\n",
      "| Uintah County       | Utah           |           16.9 |\n",
      "| Ector County        | Texas          |           16.3 |\n",
      "| Fredericksburg city | Virginia       |           16.2 |\n",
      "| Morgan County       | Utah           |           16.1 |\n",
      "| Collin County       | Texas          |           15.9 |\n",
      "| Broomfield County   | Colorado       |           15.6 |\n",
      "| Bryan County        | Georgia        |           15.6 |\n",
      "| Columbia County     | Georgia        |           15.3 |\n",
      "| Crane County        | Texas          |           15.3 |\n",
      "| McMullen County     | Texas          |           15.2 |\n",
      "| Rockwall County     | Texas          |           15.1 |\n",
      "| Williamson County   | Tennessee      |           15.0 |\n",
      "| Walton County       | Florida        |           15.0 |\n",
      "| Ward County         | North Dakota   |           14.8 |\n",
      "| Canadian County     | Oklahoma       |           14.6 |\n",
      "| Horry County        | South Carolina |           14.3 |\n",
      "| Greenlee County     | Arizona        |           14.3 |\n",
      "| Travis County       | Texas          |           14.2 |\n",
      "| Cass County         | North Dakota   |           14.1 |\n",
      "| ...                 | ...            |            ... |\n"
     ]
    },
    {
     "name": "stderr",
     "output_type": "stream",
     "text": [
      "/System/Library/Frameworks/Python.framework/Versions/2.7/lib/python2.7/json/encoder.py:207: DeprecationWarning: Interpreting naive datetime as local 2017-03-02 20:24:38.203153. Please add timezone info to timestamps.\n"
     ]
    }
   ],
   "source": [
    "sorted_counties = rounded_change.order_by('change', reverse=True)\n",
    "sorted_counties.select(['county', 'state', 'change_rounded']).print_table(max_rows=50)"
   ]
  },
  {
   "cell_type": "code",
   "execution_count": 17,
   "metadata": {
    "collapsed": false
   },
   "outputs": [
    {
     "name": "stdout",
     "output_type": "stream",
     "text": [
      "| county               | change_rounded |\n",
      "| -------------------- | -------------- |\n",
      "| McKenzie County      |          100.4 |\n",
      "| Williams County      |           56.3 |\n",
      "| Mountrail County     |           33.8 |\n",
      "| Stark County         |           32.0 |\n",
      "| Dunn County          |           31.2 |\n",
      "| Billings County      |           21.4 |\n",
      "| Divide County        |           17.9 |\n",
      "| Burke County         |           17.8 |\n",
      "| Ward County          |           14.8 |\n",
      "| Cass County          |           14.1 |\n",
      "| Burleigh County      |           13.8 |\n",
      "| McHenry County       |           10.6 |\n",
      "| Morton County        |            9.9 |\n",
      "| Golden Valley County |            9.6 |\n",
      "| Hettinger County     |            9.3 |\n",
      "| McLean County        |            8.4 |\n",
      "| Grand Forks County   |            5.9 |\n",
      "| Sioux County         |            5.3 |\n",
      "| Slope County         |            5.2 |\n",
      "| Mercer County        |            5.1 |\n",
      "| ...                  |            ... |\n"
     ]
    },
    {
     "name": "stderr",
     "output_type": "stream",
     "text": [
      "/System/Library/Frameworks/Python.framework/Versions/2.7/lib/python2.7/json/encoder.py:207: DeprecationWarning: Interpreting naive datetime as local 2017-03-02 21:06:40.398856. Please add timezone info to timestamps.\n"
     ]
    }
   ],
   "source": [
    "import re\n",
    "by_northdakota = sorted_counties.where(lambda row: 'North Dakota' in row['state'])\n",
    "by_northdakota.select(['county', 'change_rounded']).print_table()"
   ]
  }
 ],
 "metadata": {
  "kernelspec": {
   "display_name": "Python 2",
   "language": "python",
   "name": "python2"
  },
  "language_info": {
   "codemirror_mode": {
    "name": "ipython",
    "version": 2
   },
   "file_extension": ".py",
   "mimetype": "text/x-python",
   "name": "python",
   "nbconvert_exporter": "python",
   "pygments_lexer": "ipython2",
   "version": "2.7.10"
  }
 },
 "nbformat": 4,
 "nbformat_minor": 2
}
